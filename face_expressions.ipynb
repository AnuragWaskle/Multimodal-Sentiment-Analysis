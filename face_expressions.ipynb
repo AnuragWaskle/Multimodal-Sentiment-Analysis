{
 "cells": [
  {
   "cell_type": "code",
   "execution_count": 17,
   "metadata": {
    "_cell_guid": "b1076dfc-b9ad-4769-8c92-a6c4dae69d19",
    "_uuid": "8f2839f25d086af736a60e9eeb907d3b93b6e0e5",
    "execution": {
     "iopub.execute_input": "2024-01-04T11:27:54.071204Z",
     "iopub.status.busy": "2024-01-04T11:27:54.070912Z",
     "iopub.status.idle": "2024-01-04T11:27:58.042955Z",
     "shell.execute_reply": "2024-01-04T11:27:58.041944Z",
     "shell.execute_reply.started": "2024-01-04T11:27:54.071177Z"
    },
    "trusted": true
   },
   "outputs": [],
   "source": [
    "import cv2\n",
    "import numpy as np\n",
    "import pandas as pd\n",
    "import seaborn as sns\n",
    "import os\n",
    "from keras.models import Sequential\n",
    "from keras.layers import Conv2D, MaxPooling2D, Dense, Dropout, Flatten\n",
    "from keras.optimizers import Adam\n",
    "from tensorflow.keras.preprocessing.image import ImageDataGenerator\n",
    "\n",
    "#from keras.preprocessing.image import load_img, img_to_array, ImageDataGenerator\n",
    "import matplotlib.pyplot as plt"
   ]
  },
  {
   "cell_type": "code",
   "execution_count": 18,
   "metadata": {
    "execution": {
     "iopub.execute_input": "2024-01-04T11:28:23.249325Z",
     "iopub.status.busy": "2024-01-04T11:28:23.248648Z",
     "iopub.status.idle": "2024-01-04T11:28:23.253747Z",
     "shell.execute_reply": "2024-01-04T11:28:23.252784Z",
     "shell.execute_reply.started": "2024-01-04T11:28:23.249290Z"
    },
    "trusted": true
   },
   "outputs": [],
   "source": [
    "picture_size = 48\n",
    "folder_path = \"../input/face-expression/multi_modal/\""
   ]
  },
  {
   "cell_type": "code",
   "execution_count": 19,
   "metadata": {
    "execution": {
     "iopub.execute_input": "2024-01-04T11:28:26.145831Z",
     "iopub.status.busy": "2024-01-04T11:28:26.145450Z",
     "iopub.status.idle": "2024-01-04T11:28:27.487433Z",
     "shell.execute_reply": "2024-01-04T11:28:27.486538Z",
     "shell.execute_reply.started": "2024-01-04T11:28:26.145800Z"
    },
    "trusted": true
   },
   "outputs": [
    {
     "ename": "FileNotFoundError",
     "evalue": "[WinError 3] The system cannot find the path specified: '../input/face-expression/multi_modal/train/sad'",
     "output_type": "error",
     "traceback": [
      "\u001b[1;31m---------------------------------------------------------------------------\u001b[0m",
      "\u001b[1;31mFileNotFoundError\u001b[0m                         Traceback (most recent call last)",
      "Cell \u001b[1;32mIn[19], line 7\u001b[0m\n\u001b[0;32m      4\u001b[0m \u001b[38;5;28;01mfor\u001b[39;00m i \u001b[38;5;129;01min\u001b[39;00m \u001b[38;5;28mrange\u001b[39m(\u001b[38;5;241m1\u001b[39m, \u001b[38;5;241m10\u001b[39m, \u001b[38;5;241m1\u001b[39m):\n\u001b[0;32m      5\u001b[0m     plt\u001b[38;5;241m.\u001b[39msubplot(\u001b[38;5;241m3\u001b[39m,\u001b[38;5;241m3\u001b[39m,i)\n\u001b[0;32m      6\u001b[0m     img \u001b[38;5;241m=\u001b[39m load_img(folder_path\u001b[38;5;241m+\u001b[39m\u001b[38;5;124m\"\u001b[39m\u001b[38;5;124mtrain/\u001b[39m\u001b[38;5;124m\"\u001b[39m\u001b[38;5;241m+\u001b[39mexpression\u001b[38;5;241m+\u001b[39m\u001b[38;5;124m\"\u001b[39m\u001b[38;5;124m/\u001b[39m\u001b[38;5;124m\"\u001b[39m\u001b[38;5;241m+\u001b[39m\n\u001b[1;32m----> 7\u001b[0m                   \u001b[43mos\u001b[49m\u001b[38;5;241;43m.\u001b[39;49m\u001b[43mlistdir\u001b[49m\u001b[43m(\u001b[49m\u001b[43mfolder_path\u001b[49m\u001b[43m \u001b[49m\u001b[38;5;241;43m+\u001b[39;49m\u001b[43m \u001b[49m\u001b[38;5;124;43m\"\u001b[39;49m\u001b[38;5;124;43mtrain/\u001b[39;49m\u001b[38;5;124;43m\"\u001b[39;49m\u001b[43m \u001b[49m\u001b[38;5;241;43m+\u001b[39;49m\u001b[43m \u001b[49m\u001b[43mexpression\u001b[49m\u001b[43m)\u001b[49m[i], target_size\u001b[38;5;241m=\u001b[39m(picture_size, picture_size))\n\u001b[0;32m      8\u001b[0m     plt\u001b[38;5;241m.\u001b[39mimshow(img)   \n\u001b[0;32m      9\u001b[0m plt\u001b[38;5;241m.\u001b[39mshow()\n",
      "\u001b[1;31mFileNotFoundError\u001b[0m: [WinError 3] The system cannot find the path specified: '../input/face-expression/multi_modal/train/sad'"
     ]
    },
    {
     "data": {
      "image/png": "[encoded data removed]",
      "text/plain": [
       "<Figure size 1200x1200 with 1 Axes>"
      ]
     },
     "metadata": {},
     "output_type": "display_data"
    }
   ],
   "source": [
    "expression = 'sad'\n",
    "\n",
    "plt.figure(figsize= (12,12))\n",
    "for i in range(1, 10, 1):\n",
    "    plt.subplot(3,3,i)\n",
    "    img = load_img(folder_path+\"train/\"+expression+\"/\"+\n",
    "                  os.listdir(folder_path + \"train/\" + expression)[i], target_size=(picture_size, picture_size))\n",
    "    plt.imshow(img)   \n",
    "plt.show()"
   ]
  },
  {
   "cell_type": "code",
   "execution_count": null,
   "metadata": {
    "execution": {
     "iopub.execute_input": "2024-01-04T11:28:33.251783Z",
     "iopub.status.busy": "2024-01-04T11:28:33.251389Z",
     "iopub.status.idle": "2024-01-04T11:28:37.858497Z",
     "shell.execute_reply": "2024-01-04T11:28:37.857752Z",
     "shell.execute_reply.started": "2024-01-04T11:28:33.251748Z"
    },
    "trusted": true
   },
   "outputs": [
    {
     "name": "stdout",
     "output_type": "stream",
     "text": [
      "Found 28385 images belonging to 6 classes.\n",
      "Found 6955 images belonging to 6 classes.\n"
     ]
    }
   ],
   "source": [
    "# Initialize image data generator with rescaling\n",
    "train_data_gen = ImageDataGenerator(rescale=1./255)\n",
    "validation_data_gen = ImageDataGenerator(rescale=1./255)\n",
    "\n",
    "# Preprocess all test images\n",
    "train_generator = train_data_gen.flow_from_directory(\n",
    "        folder_path+\"train\",\n",
    "        target_size=(48, 48),\n",
    "        batch_size=64,\n",
    "        color_mode=\"grayscale\",\n",
    "        class_mode='categorical')\n",
    "\n",
    "# Preprocess all train images\n",
    "validation_generator = validation_data_gen.flow_from_directory(\n",
    "        folder_path+\"test\",\n",
    "        target_size=(48, 48),\n",
    "        batch_size=64,\n",
    "        color_mode=\"grayscale\",\n",
    "        class_mode='categorical')"
   ]
  },
  {
   "cell_type": "code",
   "execution_count": null,
   "metadata": {
    "execution": {
     "iopub.execute_input": "2024-01-04T11:29:17.237884Z",
     "iopub.status.busy": "2024-01-04T11:29:17.237104Z",
     "iopub.status.idle": "2024-01-04T11:29:17.242943Z",
     "shell.execute_reply": "2024-01-04T11:29:17.241852Z",
     "shell.execute_reply.started": "2024-01-04T11:29:17.237849Z"
    },
    "trusted": true
   },
   "outputs": [
    {
     "name": "stdout",
     "output_type": "stream",
     "text": [
      "444\n",
      "109\n"
     ]
    }
   ],
   "source": [
    "print(len(train_generator))\n",
    "print(len(validation_generator))"
   ]
  },
  {
   "cell_type": "code",
   "execution_count": null,
   "metadata": {
    "execution": {
     "iopub.execute_input": "2024-01-04T11:29:28.407113Z",
     "iopub.status.busy": "2024-01-04T11:29:28.406692Z",
     "iopub.status.idle": "2024-01-04T11:29:30.663615Z",
     "shell.execute_reply": "2024-01-04T11:29:30.662652Z",
     "shell.execute_reply.started": "2024-01-04T11:29:28.407080Z"
    },
    "trusted": true
   },
   "outputs": [
    {
     "name": "stdout",
     "output_type": "stream",
     "text": [
      "Model: \"sequential\"\n",
      "_________________________________________________________________\n",
      " Layer (type)                Output Shape              Param #   \n",
      "=================================================================\n",
      " conv2d (Conv2D)             (None, 46, 46, 32)        320       \n",
      "                                                                 \n",
      " conv2d_1 (Conv2D)           (None, 44, 44, 64)        18496     \n",
      "                                                                 \n",
      " max_pooling2d (MaxPooling2  (None, 22, 22, 64)        0         \n",
      " D)                                                              \n",
      "                                                                 \n",
      " dropout (Dropout)           (None, 22, 22, 64)        0         \n",
      "                                                                 \n",
      " conv2d_2 (Conv2D)           (None, 20, 20, 128)       73856     \n",
      "                                                                 \n",
      " max_pooling2d_1 (MaxPoolin  (None, 10, 10, 128)       0         \n",
      " g2D)                                                            \n",
      "                                                                 \n",
      " conv2d_3 (Conv2D)           (None, 8, 8, 128)         147584    \n",
      "                                                                 \n",
      " max_pooling2d_2 (MaxPoolin  (None, 4, 4, 128)         0         \n",
      " g2D)                                                            \n",
      "                                                                 \n",
      " dropout_1 (Dropout)         (None, 4, 4, 128)         0         \n",
      "                                                                 \n",
      " flatten (Flatten)           (None, 2048)              0         \n",
      "                                                                 \n",
      " dense (Dense)               (None, 1024)              2098176   \n",
      "                                                                 \n",
      " dropout_2 (Dropout)         (None, 1024)              0         \n",
      "                                                                 \n",
      " dense_1 (Dense)             (None, 6)                 6150      \n",
      "                                                                 \n",
      "=================================================================\n",
      "Total params: 2344582 (8.94 MB)\n",
      "Trainable params: 2344582 (8.94 MB)\n",
      "Non-trainable params: 0 (0.00 Byte)\n",
      "_________________________________________________________________\n"
     ]
    }
   ],
   "source": [
    "# create model structure\n",
    "emotion_model = Sequential()\n",
    "\n",
    "emotion_model.add(Conv2D(32, kernel_size=(3, 3), activation='relu', input_shape=(48, 48, 1)))\n",
    "emotion_model.add(Conv2D(64, kernel_size=(3, 3), activation='relu'))\n",
    "emotion_model.add(MaxPooling2D(pool_size=(2, 2)))\n",
    "emotion_model.add(Dropout(0.25))\n",
    "\n",
    "emotion_model.add(Conv2D(128, kernel_size=(3, 3), activation='relu'))\n",
    "emotion_model.add(MaxPooling2D(pool_size=(2, 2)))\n",
    "emotion_model.add(Conv2D(128, kernel_size=(3, 3), activation='relu'))\n",
    "emotion_model.add(MaxPooling2D(pool_size=(2, 2)))\n",
    "emotion_model.add(Dropout(0.25))\n",
    "\n",
    "emotion_model.add(Flatten())\n",
    "emotion_model.add(Dense(1024, activation='relu'))\n",
    "emotion_model.add(Dropout(0.5))\n",
    "emotion_model.add(Dense(6, activation='softmax'))\n",
    "\n",
    "cv2.ocl.setUseOpenCL(False)\n",
    "\n",
    "emotion_model.compile(loss='categorical_crossentropy', optimizer=Adam(lr=0.0001), metrics=['accuracy'])\n",
    "\n",
    "emotion_model.summary()"
   ]
  },
  {
   "cell_type": "code",
   "execution_count": null,
   "metadata": {
    "execution": {
     "iopub.execute_input": "2024-01-04T11:29:52.851058Z",
     "iopub.status.busy": "2024-01-04T11:29:52.850678Z",
     "iopub.status.idle": "2024-01-04T11:55:08.462252Z",
     "shell.execute_reply": "2024-01-04T11:55:08.461378Z",
     "shell.execute_reply.started": "2024-01-04T11:29:52.851030Z"
    },
    "trusted": true
   },
   "outputs": [
    {
     "name": "stdout",
     "output_type": "stream",
     "text": [
      "Epoch 1/50\n"
     ]
    },
    {
     "name": "stderr",
     "output_type": "stream",
     "text": [
      "/tmp/ipykernel_1644/3139131509.py:2: UserWarning: `Model.fit_generator` is deprecated and will be removed in a future version. Please use `Model.fit`, which supports generators.\n",
      "  emotion_model_info = emotion_model.fit_generator(\n",
      "2024-01-04 11:29:53.922385: E tensorflow/core/grappler/optimizers/meta_optimizer.cc:954] layout failed: INVALID_ARGUMENT: Size of values 0 does not match size of permutation 4 @ fanin shape insequential/dropout/dropout/SelectV2-2-TransposeNHWCToNCHW-LayoutOptimizer\n"
     ]
    },
    {
     "name": "stdout",
     "output_type": "stream",
     "text": [
      "443/443 [==============================] - 36s 70ms/step - loss: 1.6413 - accuracy: 0.3210 - val_loss: 1.4064 - val_accuracy: 0.4414\n",
      "Epoch 2/50\n",
      "443/443 [==============================] - 29s 66ms/step - loss: 1.3523 - accuracy: 0.4647 - val_loss: 1.2334 - val_accuracy: 0.5139\n",
      "Epoch 3/50\n",
      "443/443 [==============================] - 31s 69ms/step - loss: 1.2314 - accuracy: 0.5177 - val_loss: 1.1483 - val_accuracy: 0.5548\n",
      "Epoch 4/50\n",
      "443/443 [==============================] - 30s 67ms/step - loss: 1.1628 - accuracy: 0.5485 - val_loss: 1.1271 - val_accuracy: 0.5667\n",
      "Epoch 5/50\n",
      "443/443 [==============================] - 30s 68ms/step - loss: 1.1172 - accuracy: 0.5651 - val_loss: 1.0939 - val_accuracy: 0.5768\n",
      "Epoch 6/50\n",
      "443/443 [==============================] - 29s 65ms/step - loss: 1.0639 - accuracy: 0.5888 - val_loss: 1.0675 - val_accuracy: 0.5958\n",
      "Epoch 7/50\n",
      "443/443 [==============================] - 31s 70ms/step - loss: 1.0330 - accuracy: 0.6004 - val_loss: 1.0490 - val_accuracy: 0.6036\n",
      "Epoch 8/50\n",
      "443/443 [==============================] - 30s 67ms/step - loss: 0.9945 - accuracy: 0.6186 - val_loss: 1.0352 - val_accuracy: 0.6120\n",
      "Epoch 9/50\n",
      "443/443 [==============================] - 35s 78ms/step - loss: 0.9670 - accuracy: 0.6312 - val_loss: 1.0346 - val_accuracy: 0.6117\n",
      "Epoch 10/50\n",
      "443/443 [==============================] - 29s 64ms/step - loss: 0.9329 - accuracy: 0.6394 - val_loss: 1.0308 - val_accuracy: 0.6095\n",
      "Epoch 11/50\n",
      "443/443 [==============================] - 34s 77ms/step - loss: 0.9051 - accuracy: 0.6526 - val_loss: 1.0426 - val_accuracy: 0.6124\n",
      "Epoch 12/50\n",
      "443/443 [==============================] - 29s 66ms/step - loss: 0.8794 - accuracy: 0.6644 - val_loss: 1.0294 - val_accuracy: 0.6107\n",
      "Epoch 13/50\n",
      "443/443 [==============================] - 30s 67ms/step - loss: 0.8497 - accuracy: 0.6790 - val_loss: 1.0152 - val_accuracy: 0.6209\n",
      "Epoch 14/50\n",
      "443/443 [==============================] - 29s 65ms/step - loss: 0.8181 - accuracy: 0.6891 - val_loss: 1.0212 - val_accuracy: 0.6272\n",
      "Epoch 15/50\n",
      "443/443 [==============================] - 30s 67ms/step - loss: 0.7949 - accuracy: 0.6993 - val_loss: 1.0533 - val_accuracy: 0.6196\n",
      "Epoch 16/50\n",
      "443/443 [==============================] - 29s 66ms/step - loss: 0.7682 - accuracy: 0.7094 - val_loss: 1.0245 - val_accuracy: 0.6244\n",
      "Epoch 17/50\n",
      "443/443 [==============================] - 29s 66ms/step - loss: 0.7526 - accuracy: 0.7150 - val_loss: 1.0386 - val_accuracy: 0.6192\n",
      "Epoch 18/50\n",
      "443/443 [==============================] - 28s 64ms/step - loss: 0.7336 - accuracy: 0.7228 - val_loss: 1.0550 - val_accuracy: 0.6152\n",
      "Epoch 19/50\n",
      "443/443 [==============================] - 30s 68ms/step - loss: 0.7057 - accuracy: 0.7325 - val_loss: 1.0600 - val_accuracy: 0.6236\n",
      "Epoch 20/50\n",
      "443/443 [==============================] - 30s 67ms/step - loss: 0.6866 - accuracy: 0.7411 - val_loss: 1.0480 - val_accuracy: 0.6264\n",
      "Epoch 21/50\n",
      "443/443 [==============================] - 30s 68ms/step - loss: 0.6709 - accuracy: 0.7485 - val_loss: 1.0596 - val_accuracy: 0.6189\n",
      "Epoch 22/50\n",
      "443/443 [==============================] - 29s 64ms/step - loss: 0.6458 - accuracy: 0.7568 - val_loss: 1.0599 - val_accuracy: 0.6237\n",
      "Epoch 23/50\n",
      "443/443 [==============================] - 30s 67ms/step - loss: 0.6422 - accuracy: 0.7619 - val_loss: 1.0473 - val_accuracy: 0.6194\n",
      "Epoch 24/50\n",
      "443/443 [==============================] - 29s 66ms/step - loss: 0.6165 - accuracy: 0.7720 - val_loss: 1.0729 - val_accuracy: 0.6181\n",
      "Epoch 25/50\n",
      "443/443 [==============================] - 30s 68ms/step - loss: 0.6070 - accuracy: 0.7744 - val_loss: 1.0685 - val_accuracy: 0.6243\n",
      "Epoch 26/50\n",
      "443/443 [==============================] - 29s 65ms/step - loss: 0.6011 - accuracy: 0.7744 - val_loss: 1.0798 - val_accuracy: 0.6280\n",
      "Epoch 27/50\n",
      "443/443 [==============================] - 31s 70ms/step - loss: 0.5797 - accuracy: 0.7843 - val_loss: 1.1088 - val_accuracy: 0.6272\n",
      "Epoch 28/50\n",
      "443/443 [==============================] - 30s 68ms/step - loss: 0.5671 - accuracy: 0.7897 - val_loss: 1.1012 - val_accuracy: 0.6321\n",
      "Epoch 29/50\n",
      "443/443 [==============================] - 31s 70ms/step - loss: 0.5544 - accuracy: 0.7962 - val_loss: 1.0861 - val_accuracy: 0.6234\n",
      "Epoch 30/50\n",
      "443/443 [==============================] - 30s 68ms/step - loss: 0.5411 - accuracy: 0.7997 - val_loss: 1.1214 - val_accuracy: 0.6201\n",
      "Epoch 31/50\n",
      "443/443 [==============================] - 31s 70ms/step - loss: 0.5350 - accuracy: 0.8044 - val_loss: 1.1178 - val_accuracy: 0.6315\n",
      "Epoch 32/50\n",
      "443/443 [==============================] - 30s 67ms/step - loss: 0.5173 - accuracy: 0.8094 - val_loss: 1.1663 - val_accuracy: 0.6256\n",
      "Epoch 33/50\n",
      "443/443 [==============================] - 30s 67ms/step - loss: 0.5170 - accuracy: 0.8081 - val_loss: 1.1020 - val_accuracy: 0.6218\n",
      "Epoch 34/50\n",
      "443/443 [==============================] - 29s 65ms/step - loss: 0.5020 - accuracy: 0.8154 - val_loss: 1.1330 - val_accuracy: 0.6292\n",
      "Epoch 35/50\n",
      "443/443 [==============================] - 30s 67ms/step - loss: 0.4946 - accuracy: 0.8174 - val_loss: 1.1204 - val_accuracy: 0.6244\n",
      "Epoch 36/50\n",
      "443/443 [==============================] - 30s 67ms/step - loss: 0.4800 - accuracy: 0.8238 - val_loss: 1.1140 - val_accuracy: 0.6288\n",
      "Epoch 37/50\n",
      "443/443 [==============================] - 30s 67ms/step - loss: 0.4814 - accuracy: 0.8236 - val_loss: 1.1394 - val_accuracy: 0.6280\n",
      "Epoch 38/50\n",
      "443/443 [==============================] - 29s 66ms/step - loss: 0.4733 - accuracy: 0.8289 - val_loss: 1.1209 - val_accuracy: 0.6308\n",
      "Epoch 39/50\n",
      "443/443 [==============================] - 30s 68ms/step - loss: 0.4658 - accuracy: 0.8298 - val_loss: 1.1363 - val_accuracy: 0.6291\n",
      "Epoch 40/50\n",
      "443/443 [==============================] - 31s 69ms/step - loss: 0.4558 - accuracy: 0.8327 - val_loss: 1.1486 - val_accuracy: 0.6266\n",
      "Epoch 41/50\n",
      "443/443 [==============================] - 30s 69ms/step - loss: 0.4564 - accuracy: 0.8353 - val_loss: 1.1365 - val_accuracy: 0.6318\n",
      "Epoch 42/50\n",
      "443/443 [==============================] - 29s 66ms/step - loss: 0.4533 - accuracy: 0.8327 - val_loss: 1.1681 - val_accuracy: 0.6289\n",
      "Epoch 43/50\n",
      "443/443 [==============================] - 30s 67ms/step - loss: 0.4391 - accuracy: 0.8404 - val_loss: 1.1971 - val_accuracy: 0.6276\n",
      "Epoch 44/50\n",
      "443/443 [==============================] - 30s 68ms/step - loss: 0.4398 - accuracy: 0.8403 - val_loss: 1.1372 - val_accuracy: 0.6319\n",
      "Epoch 45/50\n",
      "443/443 [==============================] - 30s 67ms/step - loss: 0.4324 - accuracy: 0.8430 - val_loss: 1.1584 - val_accuracy: 0.6315\n",
      "Epoch 46/50\n",
      "443/443 [==============================] - 30s 67ms/step - loss: 0.4289 - accuracy: 0.8455 - val_loss: 1.1961 - val_accuracy: 0.6296\n",
      "Epoch 47/50\n",
      "443/443 [==============================] - 31s 70ms/step - loss: 0.4245 - accuracy: 0.8474 - val_loss: 1.2162 - val_accuracy: 0.6314\n",
      "Epoch 48/50\n",
      "443/443 [==============================] - 31s 69ms/step - loss: 0.4113 - accuracy: 0.8524 - val_loss: 1.1996 - val_accuracy: 0.6301\n",
      "Epoch 49/50\n",
      "443/443 [==============================] - 30s 69ms/step - loss: 0.4205 - accuracy: 0.8504 - val_loss: 1.2262 - val_accuracy: 0.6335\n",
      "Epoch 50/50\n",
      "443/443 [==============================] - 30s 69ms/step - loss: 0.4058 - accuracy: 0.8534 - val_loss: 1.2371 - val_accuracy: 0.6318\n"
     ]
    }
   ],
   "source": [
    "# Train the neural network/model\n",
    "emotion_model_info = emotion_model.fit_generator(\n",
    "        train_generator,\n",
    "        steps_per_epoch=28385 // 64,\n",
    "        epochs=50,\n",
    "        validation_data=validation_generator,\n",
    "        validation_steps=6955 // 64)"
   ]
  },
  {
   "cell_type": "code",
   "execution_count": null,
   "metadata": {
    "execution": {
     "iopub.execute_input": "2024-01-04T12:03:01.922567Z",
     "iopub.status.busy": "2024-01-04T12:03:01.922183Z",
     "iopub.status.idle": "2024-01-04T12:03:02.110530Z",
     "shell.execute_reply": "2024-01-04T12:03:02.109625Z",
     "shell.execute_reply.started": "2024-01-04T12:03:01.922535Z"
    },
    "trusted": true
   },
   "outputs": [
    {
     "data": {
      "image/png": "[encoded data removed]",
      "text/plain": [
       "<Figure size 640x480 with 1 Axes>"
      ]
     },
     "metadata": {},
     "output_type": "display_data"
    }
   ],
   "source": [
    "# loss\n",
    "plt.plot(emotion_model_info.history['loss'], label='train loss')\n",
    "plt.plot(emotion_model_info.history['val_loss'], label='val loss')\n",
    "plt.legend()\n",
    "plt.show()"
   ]
  },
  {
   "cell_type": "code",
   "execution_count": null,
   "metadata": {
    "execution": {
     "iopub.execute_input": "2024-01-04T12:04:10.702174Z",
     "iopub.status.busy": "2024-01-04T12:04:10.701758Z",
     "iopub.status.idle": "2024-01-04T12:04:10.882404Z",
     "shell.execute_reply": "2024-01-04T12:04:10.881493Z",
     "shell.execute_reply.started": "2024-01-04T12:04:10.702143Z"
    },
    "trusted": true
   },
   "outputs": [
    {
     "data": {
      "image/png": "[encoded data removed]",
      "text/plain": [
       "<Figure size 640x480 with 1 Axes>"
      ]
     },
     "metadata": {},
     "output_type": "display_data"
    }
   ],
   "source": [
    "# accuracies\n",
    "plt.plot(emotion_model_info.history['accuracy'], label='train acc')\n",
    "plt.plot(emotion_model_info.history['val_accuracy'], label='val acc')\n",
    "plt.legend()\n",
    "plt.show()"
   ]
  },
  {
   "cell_type": "code",
   "execution_count": null,
   "metadata": {
    "execution": {
     "iopub.execute_input": "2024-01-04T12:05:24.024991Z",
     "iopub.status.busy": "2024-01-04T12:05:24.024583Z",
     "iopub.status.idle": "2024-01-04T12:05:24.070881Z",
     "shell.execute_reply": "2024-01-04T12:05:24.070057Z",
     "shell.execute_reply.started": "2024-01-04T12:05:24.024959Z"
    },
    "trusted": true
   },
   "outputs": [],
   "source": [
    "# save model structure in jason file\n",
    "model_json = emotion_model.to_json()\n",
    "with open(\"face_emotion.json\", \"w\") as json_file:\n",
    "    json_file.write(model_json)\n",
    "\n",
    "# save trained model weight in .h5 file\n",
    "emotion_model.save_weights('face_emotion.h5')"
   ]
  },
  {
   "cell_type": "code",
   "execution_count": null,
   "metadata": {
    "execution": {
     "iopub.execute_input": "2024-01-04T12:08:49.574281Z",
     "iopub.status.busy": "2024-01-04T12:08:49.573856Z",
     "iopub.status.idle": "2024-01-04T12:08:49.579858Z",
     "shell.execute_reply": "2024-01-04T12:08:49.578878Z",
     "shell.execute_reply.started": "2024-01-04T12:08:49.574250Z"
    },
    "trusted": true
   },
   "outputs": [
    {
     "name": "stdout",
     "output_type": "stream",
     "text": [
      "{0: 'angry', 1: 'fear', 2: 'happy', 3: 'neutral', 4: 'sad', 5: 'surprise'}\n"
     ]
    }
   ],
   "source": [
    "lab = train_generator.class_indices\n",
    "lab={k:v for v,k in lab.items()}\n",
    "print(lab)"
   ]
  },
  {
   "cell_type": "code",
   "execution_count": null,
   "metadata": {
    "execution": {
     "iopub.execute_input": "2024-01-04T12:25:09.746433Z",
     "iopub.status.busy": "2024-01-04T12:25:09.745382Z",
     "iopub.status.idle": "2024-01-04T12:25:09.877512Z",
     "shell.execute_reply": "2024-01-04T12:25:09.876660Z",
     "shell.execute_reply.started": "2024-01-04T12:25:09.746397Z"
    },
    "trusted": true
   },
   "outputs": [],
   "source": [
    "from keras.models import model_from_json\n",
    "# load json and create model\n",
    "json_file = open('./face_emotion.json', 'r')\n",
    "loaded_model_json = json_file.read()\n",
    "json_file.close()\n",
    "emotion_model = model_from_json(loaded_model_json)\n",
    "\n",
    "# load weights into new model\n",
    "emotion_model.load_weights(\"./face_emotion.h5\")"
   ]
  },
  {
   "cell_type": "code",
   "execution_count": null,
   "metadata": {
    "execution": {
     "iopub.execute_input": "2024-01-04T13:47:35.358123Z",
     "iopub.status.busy": "2024-01-04T13:47:35.357118Z",
     "iopub.status.idle": "2024-01-04T13:47:35.366098Z",
     "shell.execute_reply": "2024-01-04T13:47:35.364913Z",
     "shell.execute_reply.started": "2024-01-04T13:47:35.358080Z"
    },
    "trusted": true
   },
   "outputs": [],
   "source": [
    "def predict_emotion(image_path):\n",
    "    # Load the image\n",
    "    img = load_img(image_path, target_size=(48, 48), grayscale=True)\n",
    "\n",
    "    # Display the loaded image\n",
    "    plt.imshow(img, cmap='gray')\n",
    "    plt.axis('off')\n",
    "    plt.show()\n",
    "\n",
    "    # Convert the image to a numpy array\n",
    "    img_array = img_to_array(img)\n",
    "    img_array = np.expand_dims(img_array, axis=0)\n",
    "\n",
    "    # Normalize the pixel values\n",
    "    img_array /= 255.0\n",
    "\n",
    "    # Make predictions using the loaded model\n",
    "    emotion_prediction = emotion_model.predict(img_array)\n",
    "\n",
    "    # Get the predicted emotion label\n",
    "    emotion_labels = ['Angry', 'Fear', 'Happy', 'Neutral', 'Sad', 'Surprise']\n",
    "    predicted_emotion_index = np.argmax(emotion_prediction)\n",
    "    predicted_emotion_label = emotion_labels[predicted_emotion_index]\n",
    "\n",
    "    # Display the predicted emotion\n",
    "    print(f\"Predicted Emotion: {predicted_emotion_label}\")\n"
   ]
  },
  {
   "cell_type": "code",
   "execution_count": null,
   "metadata": {
    "execution": {
     "iopub.execute_input": "2024-01-04T13:47:38.383455Z",
     "iopub.status.busy": "2024-01-04T13:47:38.382726Z",
     "iopub.status.idle": "2024-01-04T13:47:38.559507Z",
     "shell.execute_reply": "2024-01-04T13:47:38.558548Z",
     "shell.execute_reply.started": "2024-01-04T13:47:38.383419Z"
    },
    "trusted": true
   },
   "outputs": [
    {
     "data": {
      "image/png": "[encoded data removed]",
      "text/plain": [
       "<Figure size 640x480 with 1 Axes>"
      ]
     },
     "metadata": {},
     "output_type": "display_data"
    },
    {
     "name": "stdout",
     "output_type": "stream",
     "text": [
      "1/1 [==============================] - 0s 23ms/step\n",
      "Predicted Emotion: Surprise\n"
     ]
    }
   ],
   "source": [
    "# Call the function with the path to your image\n",
    "image_path = '../input/face-expression/multi_modal/train/surprise/10011.jpg'  \n",
    "predict_emotion(image_path)"
   ]
  },
  {
   "cell_type": "code",
   "execution_count": null,
   "metadata": {
    "execution": {
     "iopub.execute_input": "2024-01-04T13:48:09.166610Z",
     "iopub.status.busy": "2024-01-04T13:48:09.165673Z",
     "iopub.status.idle": "2024-01-04T13:48:09.345810Z",
     "shell.execute_reply": "2024-01-04T13:48:09.344966Z",
     "shell.execute_reply.started": "2024-01-04T13:48:09.166575Z"
    },
    "trusted": true
   },
   "outputs": [
    {
     "data": {
      "image/png": "[encoded data removed]",
      "text/plain": [
       "<Figure size 640x480 with 1 Axes>"
      ]
     },
     "metadata": {},
     "output_type": "display_data"
    },
    {
     "name": "stdout",
     "output_type": "stream",
     "text": [
      "1/1 [==============================] - 0s 37ms/step\n",
      "Predicted Emotion: Fear\n"
     ]
    }
   ],
   "source": [
    "# Call the function with the path to your image\n",
    "image_path = '../input/face-expression/multi_modal/train/fear/10047.jpg'  \n",
    "predict_emotion(image_path)"
   ]
  }
 ],
 "metadata": {
  "kaggle": {
   "accelerator": "nvidiaTeslaT4",
   "dataSources": [
    {
     "datasetId": 4259315,
     "sourceId": 7336704,
     "sourceType": "datasetVersion"
    }
   ],
   "dockerImageVersionId": 30627,
   "isGpuEnabled": true,
   "isInternetEnabled": true,
   "language": "python",
   "sourceType": "notebook"
  },
  "kernelspec": {
   "display_name": "Python 3",
   "language": "python",
   "name": "python3"
  },
  "language_info": {
   "codemirror_mode": {
    "name": "ipython",
    "version": 3
   },
   "file_extension": ".py",
   "mimetype": "text/x-python",
   "name": "python",
   "nbconvert_exporter": "python",
   "pygments_lexer": "ipython3",
   "version": "3.12.1"
  }
 },
 "nbformat": 4,
 "nbformat_minor": 4
}
